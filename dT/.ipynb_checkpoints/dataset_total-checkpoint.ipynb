{
 "cells": [
  {
   "cell_type": "code",
   "execution_count": 7,
   "id": "0f89cc29",
   "metadata": {},
   "outputs": [],
   "source": [
    "data1 <- read.csv(file = \"datasetGeral.csv\", head =TRUE, sep =\",\");"
   ]
  },
  {
   "cell_type": "code",
   "execution_count": 8,
   "id": "c366c87d",
   "metadata": {},
   "outputs": [
    {
     "data": {
      "text/html": [
       "<style>\n",
       ".list-inline {list-style: none; margin:0; padding: 0}\n",
       ".list-inline>li {display: inline-block}\n",
       ".list-inline>li:not(:last-child)::after {content: \"\\00b7\"; padding: 0 .5ex}\n",
       "</style>\n",
       "<ol class=list-inline><li>2096</li><li>15</li></ol>\n"
      ],
      "text/latex": [
       "\\begin{enumerate*}\n",
       "\\item 2096\n",
       "\\item 15\n",
       "\\end{enumerate*}\n"
      ],
      "text/markdown": [
       "1. 2096\n",
       "2. 15\n",
       "\n",
       "\n"
      ],
      "text/plain": [
       "[1] 2096   15"
      ]
     },
     "metadata": {},
     "output_type": "display_data"
    }
   ],
   "source": [
    "data1_Fr <- data.frame(data1)\n",
    "data1_Fr <- data1_Fr[,-c(1,2)]\n",
    "dim(data1);   "
   ]
  },
  {
   "cell_type": "code",
   "execution_count": 9,
   "id": "b1781e86",
   "metadata": {},
   "outputs": [
    {
     "name": "stdout",
     "output_type": "stream",
     "text": [
      "[1] \"data1_Fr\"\n"
     ]
    },
    {
     "data": {
      "text/html": [
       "<table class=\"dataframe\">\n",
       "<caption>A data.frame: 13 × 3</caption>\n",
       "<thead>\n",
       "\t<tr><th scope=col>col_name</th><th scope=col>col_index</th><th scope=col>col_class</th></tr>\n",
       "\t<tr><th scope=col>&lt;fct&gt;</th><th scope=col>&lt;int&gt;</th><th scope=col>&lt;fct&gt;</th></tr>\n",
       "</thead>\n",
       "<tbody>\n",
       "\t<tr><td>tamanho_da_malha            </td><td> 1</td><td>integer</td></tr>\n",
       "\t<tr><td>numero_defeitos             </td><td> 2</td><td>integer</td></tr>\n",
       "\t<tr><td>LOC                         </td><td> 3</td><td>integer</td></tr>\n",
       "\t<tr><td>cobertura_condicao.         </td><td> 4</td><td>integer</td></tr>\n",
       "\t<tr><td>requisitos_cobertos_condicao</td><td> 5</td><td>integer</td></tr>\n",
       "\t<tr><td>total_de_requistos_condicao </td><td> 6</td><td>integer</td></tr>\n",
       "\t<tr><td>cobertura_decisao.          </td><td> 7</td><td>integer</td></tr>\n",
       "\t<tr><td>requisitos_cobertos_decisao </td><td> 8</td><td>integer</td></tr>\n",
       "\t<tr><td>total_de_requistos_decisao  </td><td> 9</td><td>integer</td></tr>\n",
       "\t<tr><td>cobertura_mcdc.             </td><td>10</td><td>integer</td></tr>\n",
       "\t<tr><td>requisitos_cobertos_mcdc    </td><td>11</td><td>integer</td></tr>\n",
       "\t<tr><td>total_de_requistos_mcdc     </td><td>12</td><td>integer</td></tr>\n",
       "\t<tr><td>numero_de_condicoes         </td><td>13</td><td>integer</td></tr>\n",
       "</tbody>\n",
       "</table>\n"
      ],
      "text/latex": [
       "A data.frame: 13 × 3\n",
       "\\begin{tabular}{lll}\n",
       " col\\_name & col\\_index & col\\_class\\\\\n",
       " <fct> & <int> & <fct>\\\\\n",
       "\\hline\n",
       "\t tamanho\\_da\\_malha             &  1 & integer\\\\\n",
       "\t numero\\_defeitos              &  2 & integer\\\\\n",
       "\t LOC                          &  3 & integer\\\\\n",
       "\t cobertura\\_condicao.          &  4 & integer\\\\\n",
       "\t requisitos\\_cobertos\\_condicao &  5 & integer\\\\\n",
       "\t total\\_de\\_requistos\\_condicao  &  6 & integer\\\\\n",
       "\t cobertura\\_decisao.           &  7 & integer\\\\\n",
       "\t requisitos\\_cobertos\\_decisao  &  8 & integer\\\\\n",
       "\t total\\_de\\_requistos\\_decisao   &  9 & integer\\\\\n",
       "\t cobertura\\_mcdc.              & 10 & integer\\\\\n",
       "\t requisitos\\_cobertos\\_mcdc     & 11 & integer\\\\\n",
       "\t total\\_de\\_requistos\\_mcdc      & 12 & integer\\\\\n",
       "\t numero\\_de\\_condicoes          & 13 & integer\\\\\n",
       "\\end{tabular}\n"
      ],
      "text/markdown": [
       "\n",
       "A data.frame: 13 × 3\n",
       "\n",
       "| col_name &lt;fct&gt; | col_index &lt;int&gt; | col_class &lt;fct&gt; |\n",
       "|---|---|---|\n",
       "| tamanho_da_malha             |  1 | integer |\n",
       "| numero_defeitos              |  2 | integer |\n",
       "| LOC                          |  3 | integer |\n",
       "| cobertura_condicao.          |  4 | integer |\n",
       "| requisitos_cobertos_condicao |  5 | integer |\n",
       "| total_de_requistos_condicao  |  6 | integer |\n",
       "| cobertura_decisao.           |  7 | integer |\n",
       "| requisitos_cobertos_decisao  |  8 | integer |\n",
       "| total_de_requistos_decisao   |  9 | integer |\n",
       "| cobertura_mcdc.              | 10 | integer |\n",
       "| requisitos_cobertos_mcdc     | 11 | integer |\n",
       "| total_de_requistos_mcdc      | 12 | integer |\n",
       "| numero_de_condicoes          | 13 | integer |\n",
       "\n"
      ],
      "text/plain": [
       "   col_name                     col_index col_class\n",
       "1  tamanho_da_malha              1        integer  \n",
       "2  numero_defeitos               2        integer  \n",
       "3  LOC                           3        integer  \n",
       "4  cobertura_condicao.           4        integer  \n",
       "5  requisitos_cobertos_condicao  5        integer  \n",
       "6  total_de_requistos_condicao   6        integer  \n",
       "7  cobertura_decisao.            7        integer  \n",
       "8  requisitos_cobertos_decisao   8        integer  \n",
       "9  total_de_requistos_decisao    9        integer  \n",
       "10 cobertura_mcdc.              10        integer  \n",
       "11 requisitos_cobertos_mcdc     11        integer  \n",
       "12 total_de_requistos_mcdc      12        integer  \n",
       "13 numero_de_condicoes          13        integer  "
      ]
     },
     "metadata": {},
     "output_type": "display_data"
    }
   ],
   "source": [
    "custom_glimpse <- function(df) {\n",
    "  name <- deparse(substitute(df));\n",
    "  print(name);\n",
    "  data.frame(    \n",
    "    col_name = colnames(df),\n",
    "    col_index = 1:ncol(df),\n",
    "    col_class = sapply(df, class),\n",
    "    row.names = NULL\n",
    "  )\n",
    "}\n",
    "custom_glimpse(data1_Fr)"
   ]
  },
  {
   "cell_type": "code",
   "execution_count": 10,
   "id": "d677714a",
   "metadata": {},
   "outputs": [
    {
     "data": {
      "text/html": [
       "<table class=\"dataframe\">\n",
       "<caption>A data.frame: 6 × 13</caption>\n",
       "<thead>\n",
       "\t<tr><th></th><th scope=col>tamanho_da_malha</th><th scope=col>numero_defeitos</th><th scope=col>LOC</th><th scope=col>cobertura_condicao.</th><th scope=col>requisitos_cobertos_condicao</th><th scope=col>total_de_requistos_condicao</th><th scope=col>cobertura_decisao.</th><th scope=col>requisitos_cobertos_decisao</th><th scope=col>total_de_requistos_decisao</th><th scope=col>cobertura_mcdc.</th><th scope=col>requisitos_cobertos_mcdc</th><th scope=col>total_de_requistos_mcdc</th><th scope=col>numero_de_condicoes</th></tr>\n",
       "\t<tr><th></th><th scope=col>&lt;int&gt;</th><th scope=col>&lt;int&gt;</th><th scope=col>&lt;int&gt;</th><th scope=col>&lt;int&gt;</th><th scope=col>&lt;int&gt;</th><th scope=col>&lt;int&gt;</th><th scope=col>&lt;int&gt;</th><th scope=col>&lt;int&gt;</th><th scope=col>&lt;int&gt;</th><th scope=col>&lt;int&gt;</th><th scope=col>&lt;int&gt;</th><th scope=col>&lt;int&gt;</th><th scope=col>&lt;int&gt;</th></tr>\n",
       "</thead>\n",
       "<tbody>\n",
       "\t<tr><th scope=row>1</th><td>   472</td><td>13</td><td> 703</td><td>71</td><td>1659</td><td>2317</td><td>68</td><td>288</td><td>421</td><td>39</td><td>546</td><td>1369</td><td>5</td></tr>\n",
       "\t<tr><th scope=row>2</th><td>  9711</td><td>15</td><td> 701</td><td>77</td><td>1807</td><td>2317</td><td>77</td><td>328</td><td>421</td><td>51</td><td>705</td><td>1369</td><td>5</td></tr>\n",
       "\t<tr><th scope=row>3</th><td>500859</td><td>15</td><td> 701</td><td>77</td><td>1807</td><td>2317</td><td>77</td><td>328</td><td>421</td><td>51</td><td>705</td><td>1369</td><td>5</td></tr>\n",
       "\t<tr><th scope=row>4</th><td>   472</td><td>12</td><td>1186</td><td>55</td><td>2159</td><td>3866</td><td>55</td><td>327</td><td>588</td><td>26</td><td>582</td><td>2227</td><td>7</td></tr>\n",
       "\t<tr><th scope=row>5</th><td>  9711</td><td>15</td><td>1186</td><td>62</td><td>2433</td><td>3866</td><td>62</td><td>370</td><td>588</td><td>32</td><td>732</td><td>2227</td><td>7</td></tr>\n",
       "\t<tr><th scope=row>6</th><td>500859</td><td>15</td><td>1186</td><td>63</td><td>2447</td><td>3866</td><td>62</td><td>370</td><td>588</td><td>32</td><td>732</td><td>2227</td><td>7</td></tr>\n",
       "</tbody>\n",
       "</table>\n"
      ],
      "text/latex": [
       "A data.frame: 6 × 13\n",
       "\\begin{tabular}{r|lllllllllllll}\n",
       "  & tamanho\\_da\\_malha & numero\\_defeitos & LOC & cobertura\\_condicao. & requisitos\\_cobertos\\_condicao & total\\_de\\_requistos\\_condicao & cobertura\\_decisao. & requisitos\\_cobertos\\_decisao & total\\_de\\_requistos\\_decisao & cobertura\\_mcdc. & requisitos\\_cobertos\\_mcdc & total\\_de\\_requistos\\_mcdc & numero\\_de\\_condicoes\\\\\n",
       "  & <int> & <int> & <int> & <int> & <int> & <int> & <int> & <int> & <int> & <int> & <int> & <int> & <int>\\\\\n",
       "\\hline\n",
       "\t1 &    472 & 13 &  703 & 71 & 1659 & 2317 & 68 & 288 & 421 & 39 & 546 & 1369 & 5\\\\\n",
       "\t2 &   9711 & 15 &  701 & 77 & 1807 & 2317 & 77 & 328 & 421 & 51 & 705 & 1369 & 5\\\\\n",
       "\t3 & 500859 & 15 &  701 & 77 & 1807 & 2317 & 77 & 328 & 421 & 51 & 705 & 1369 & 5\\\\\n",
       "\t4 &    472 & 12 & 1186 & 55 & 2159 & 3866 & 55 & 327 & 588 & 26 & 582 & 2227 & 7\\\\\n",
       "\t5 &   9711 & 15 & 1186 & 62 & 2433 & 3866 & 62 & 370 & 588 & 32 & 732 & 2227 & 7\\\\\n",
       "\t6 & 500859 & 15 & 1186 & 63 & 2447 & 3866 & 62 & 370 & 588 & 32 & 732 & 2227 & 7\\\\\n",
       "\\end{tabular}\n"
      ],
      "text/markdown": [
       "\n",
       "A data.frame: 6 × 13\n",
       "\n",
       "| <!--/--> | tamanho_da_malha &lt;int&gt; | numero_defeitos &lt;int&gt; | LOC &lt;int&gt; | cobertura_condicao. &lt;int&gt; | requisitos_cobertos_condicao &lt;int&gt; | total_de_requistos_condicao &lt;int&gt; | cobertura_decisao. &lt;int&gt; | requisitos_cobertos_decisao &lt;int&gt; | total_de_requistos_decisao &lt;int&gt; | cobertura_mcdc. &lt;int&gt; | requisitos_cobertos_mcdc &lt;int&gt; | total_de_requistos_mcdc &lt;int&gt; | numero_de_condicoes &lt;int&gt; |\n",
       "|---|---|---|---|---|---|---|---|---|---|---|---|---|---|\n",
       "| 1 |    472 | 13 |  703 | 71 | 1659 | 2317 | 68 | 288 | 421 | 39 | 546 | 1369 | 5 |\n",
       "| 2 |   9711 | 15 |  701 | 77 | 1807 | 2317 | 77 | 328 | 421 | 51 | 705 | 1369 | 5 |\n",
       "| 3 | 500859 | 15 |  701 | 77 | 1807 | 2317 | 77 | 328 | 421 | 51 | 705 | 1369 | 5 |\n",
       "| 4 |    472 | 12 | 1186 | 55 | 2159 | 3866 | 55 | 327 | 588 | 26 | 582 | 2227 | 7 |\n",
       "| 5 |   9711 | 15 | 1186 | 62 | 2433 | 3866 | 62 | 370 | 588 | 32 | 732 | 2227 | 7 |\n",
       "| 6 | 500859 | 15 | 1186 | 63 | 2447 | 3866 | 62 | 370 | 588 | 32 | 732 | 2227 | 7 |\n",
       "\n"
      ],
      "text/plain": [
       "  tamanho_da_malha numero_defeitos LOC  cobertura_condicao.\n",
       "1    472           13               703 71                 \n",
       "2   9711           15               701 77                 \n",
       "3 500859           15               701 77                 \n",
       "4    472           12              1186 55                 \n",
       "5   9711           15              1186 62                 \n",
       "6 500859           15              1186 63                 \n",
       "  requisitos_cobertos_condicao total_de_requistos_condicao cobertura_decisao.\n",
       "1 1659                         2317                        68                \n",
       "2 1807                         2317                        77                \n",
       "3 1807                         2317                        77                \n",
       "4 2159                         3866                        55                \n",
       "5 2433                         3866                        62                \n",
       "6 2447                         3866                        62                \n",
       "  requisitos_cobertos_decisao total_de_requistos_decisao cobertura_mcdc.\n",
       "1 288                         421                        39             \n",
       "2 328                         421                        51             \n",
       "3 328                         421                        51             \n",
       "4 327                         588                        26             \n",
       "5 370                         588                        32             \n",
       "6 370                         588                        32             \n",
       "  requisitos_cobertos_mcdc total_de_requistos_mcdc numero_de_condicoes\n",
       "1 546                      1369                    5                  \n",
       "2 705                      1369                    5                  \n",
       "3 705                      1369                    5                  \n",
       "4 582                      2227                    7                  \n",
       "5 732                      2227                    7                  \n",
       "6 732                      2227                    7                  "
      ]
     },
     "metadata": {},
     "output_type": "display_data"
    }
   ],
   "source": [
    "head(data1_Fr)"
   ]
  },
  {
   "cell_type": "code",
   "execution_count": 11,
   "id": "d5bca18d",
   "metadata": {},
   "outputs": [
    {
     "name": "stdout",
     "output_type": "stream",
     "text": [
      "[1] \"Sumario de dados data1\"\n"
     ]
    },
    {
     "data": {
      "text/plain": [
       " tamanho_da_malha  numero_defeitos       LOC        cobertura_condicao.\n",
       " Min.   :      0   Min.   : 0.000   Min.   :  619   Min.   : 0.00      \n",
       " 1st Qu.:     66   1st Qu.: 0.000   1st Qu.:  642   1st Qu.:36.00      \n",
       " Median :   1428   Median : 3.000   Median : 1186   Median :53.50      \n",
       " Mean   :  51694   Mean   : 6.198   Mean   : 3518   Mean   :50.63      \n",
       " 3rd Qu.:  15778   3rd Qu.:12.000   3rd Qu.: 5537   3rd Qu.:63.00      \n",
       " Max.   :1344605   Max.   :25.000   Max.   :11162   Max.   :90.00      \n",
       " requisitos_cobertos_condicao total_de_requistos_condicao cobertura_decisao.\n",
       " Min.   :    0                Min.   : 2317               Min.   : 0.00     \n",
       " 1st Qu.: 1338                1st Qu.: 2409               1st Qu.:37.00     \n",
       " Median : 2101                Median : 3866               Median :50.00     \n",
       " Mean   : 6062                Mean   :12451               Mean   :51.05     \n",
       " 3rd Qu.:10284                3rd Qu.:20354               3rd Qu.:62.00     \n",
       " Max.   :27300                Max.   :40342               Max.   :96.00     \n",
       " requisitos_cobertos_decisao total_de_requistos_decisao cobertura_mcdc.\n",
       " Min.   :   0.0              Min.   : 394               Min.   : 0.00  \n",
       " 1st Qu.: 226.0              1st Qu.: 421               1st Qu.:12.00  \n",
       " Median : 328.0              Median : 588               Median :25.00  \n",
       " Mean   : 828.7              Mean   :1718               Mean   :25.99  \n",
       " 3rd Qu.:1300.5              3rd Qu.:2452               3rd Qu.:33.00  \n",
       " Max.   :3564.0              Max.   :5508               Max.   :72.00  \n",
       " requisitos_cobertos_mcdc total_de_requistos_mcdc numero_de_condicoes\n",
       " Min.   :   0.0           Min.   : 1369           Min.   :5.00       \n",
       " 1st Qu.: 400.8           1st Qu.: 1425           1st Qu.:5.00       \n",
       " Median : 705.0           Median : 2227           Median :7.00       \n",
       " Mean   :1593.7           Mean   : 7085           Mean   :6.57       \n",
       " 3rd Qu.:1832.0           3rd Qu.:11403           3rd Qu.:8.00       \n",
       " Max.   :8619.0           Max.   :22925           Max.   :8.00       "
      ]
     },
     "metadata": {},
     "output_type": "display_data"
    }
   ],
   "source": [
    "print(\"Sumario de dados data1\")\n",
    "summary(data1_Fr);"
   ]
  },
  {
   "cell_type": "code",
   "execution_count": 12,
   "id": "9a18bab8",
   "metadata": {},
   "outputs": [],
   "source": [
    "#Histograma"
   ]
  },
  {
   "cell_type": "code",
   "execution_count": 13,
   "id": "b32f57e8",
   "metadata": {},
   "outputs": [
    {
     "ename": "ERROR",
     "evalue": "Error in hist.default(data1_Fr[[\"cobertura_condicao\"]], main = \"cobertura_condicao\"): 'x' must be numeric\n",
     "output_type": "error",
     "traceback": [
      "Error in hist.default(data1_Fr[[\"cobertura_condicao\"]], main = \"cobertura_condicao\"): 'x' must be numeric\nTraceback:\n",
      "1. hist(data1_Fr[[\"cobertura_condicao\"]], main = \"cobertura_condicao\")",
      "2. hist.default(data1_Fr[[\"cobertura_condicao\"]], main = \"cobertura_condicao\")",
      "3. stop(\"'x' must be numeric\")"
     ]
    }
   ],
   "source": [
    "par(mfrow=c(2,2))\n",
    "\n",
    "hist(data1_Fr[[\"tamanho_da_malha\"]],main=\"tamanho_da_malha\")\n",
    "hist(data1_Fr[[\"numero_defeitos\"]],main=\"numero_defeitos\")\n",
    "hist(data1_Fr[[\"LOC\"]],main=\"LOC\")\n",
    "hist(data1_Fr[[\"cobertura_condicao\"]],main=\"cobertura_condicao\")\n",
    "hist(data1_Fr[[\"requisitos_cobertos_condicao\"]],main=\"requisitos_cobertos_condicao\")\n",
    "hist(data1_Fr[[\"total_de_requistos_condicao\"]],main=\"total_de_requistos_condicao\")\n",
    "hist(data1_Fr[[\"cobertura_decisao\"]],main=\"cobertura_decisao\")\n",
    "hist(data1_Fr[[\"requisitos_cobertos_decisao\"]],main=\"requisitos_cobertos_decisao\")\n",
    "hist(data1_Fr[[\"total_de_requistos_decisao\"]],main=\"total_de_requistos_decisao\")\n",
    "hist(data1_Fr[[\"cobertura_mcdc\"]],main=\"cobertura_mcdc\")\n",
    "hist(data1_Fr[[\"requisitos_cobertos_mcdc\"]],main=\"requisitos_cobertos_mcdc\")\n",
    "hist(data1_Fr[[\"total_de_requistos_mcdc\"]],main=\"total_de_requistos_mcdc\")\n",
    "hist(data1_Fr[[\"numero_de_condicoes\"]],main=\"numero_de_condicoes\")"
   ]
  },
  {
   "cell_type": "code",
   "execution_count": null,
   "id": "c4a5824b",
   "metadata": {},
   "outputs": [],
   "source": []
  }
 ],
 "metadata": {
  "kernelspec": {
   "display_name": "R",
   "language": "R",
   "name": "ir"
  },
  "language_info": {
   "codemirror_mode": "r",
   "file_extension": ".r",
   "mimetype": "text/x-r-source",
   "name": "R",
   "pygments_lexer": "r",
   "version": "3.6.3"
  }
 },
 "nbformat": 4,
 "nbformat_minor": 5
}
