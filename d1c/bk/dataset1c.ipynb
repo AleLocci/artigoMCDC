{
 "cells": [
  {
   "cell_type": "code",
   "execution_count": 1,
   "id": "c6283c36",
   "metadata": {},
   "outputs": [],
   "source": [
    "data1 <- read.csv(file = \"dataset1c.csv\", head =TRUE, sep =\",\");"
   ]
  },
  {
   "cell_type": "code",
   "execution_count": 2,
   "id": "c366c87d",
   "metadata": {},
   "outputs": [
    {
     "data": {
      "text/html": [
       "<style>\n",
       ".list-inline {list-style: none; margin:0; padding: 0}\n",
       ".list-inline>li {display: inline-block}\n",
       ".list-inline>li:not(:last-child)::after {content: \"\\00b7\"; padding: 0 .5ex}\n",
       "</style>\n",
       "<ol class=list-inline><li>450</li><li>15</li></ol>\n"
      ],
      "text/latex": [
       "\\begin{enumerate*}\n",
       "\\item 450\n",
       "\\item 15\n",
       "\\end{enumerate*}\n"
      ],
      "text/markdown": [
       "1. 450\n",
       "2. 15\n",
       "\n",
       "\n"
      ],
      "text/plain": [
       "[1] 450  15"
      ]
     },
     "metadata": {},
     "output_type": "display_data"
    }
   ],
   "source": [
    "data1_Fr <- data.frame(data1)\n",
    "data1_Fr <- data1_Fr[,-c(1,2)]\n",
    "dim(data1);   "
   ]
  },
  {
   "cell_type": "code",
   "execution_count": 3,
   "id": "b1781e86",
   "metadata": {},
   "outputs": [
    {
     "name": "stdout",
     "output_type": "stream",
     "text": [
      "[1] \"data1_Fr\"\n"
     ]
    },
    {
     "data": {
      "text/html": [
       "<table class=\"dataframe\">\n",
       "<caption>A data.frame: 13 × 3</caption>\n",
       "<thead>\n",
       "\t<tr><th scope=col>col_name</th><th scope=col>col_index</th><th scope=col>col_class</th></tr>\n",
       "\t<tr><th scope=col>&lt;fct&gt;</th><th scope=col>&lt;int&gt;</th><th scope=col>&lt;fct&gt;</th></tr>\n",
       "</thead>\n",
       "<tbody>\n",
       "\t<tr><td>tamanho_da_malha            </td><td> 1</td><td>integer</td></tr>\n",
       "\t<tr><td>numero_defeitos             </td><td> 2</td><td>integer</td></tr>\n",
       "\t<tr><td>LOC                         </td><td> 3</td><td>integer</td></tr>\n",
       "\t<tr><td>cobertura_condicao          </td><td> 4</td><td>integer</td></tr>\n",
       "\t<tr><td>requisitos_cobertos_condicao</td><td> 5</td><td>integer</td></tr>\n",
       "\t<tr><td>total_de_requistos_condicao </td><td> 6</td><td>integer</td></tr>\n",
       "\t<tr><td>cobertura_decisao           </td><td> 7</td><td>integer</td></tr>\n",
       "\t<tr><td>requisitos_cobertos_decisao </td><td> 8</td><td>integer</td></tr>\n",
       "\t<tr><td>total_de_requistos_decisao  </td><td> 9</td><td>integer</td></tr>\n",
       "\t<tr><td>cobertura_mcdc              </td><td>10</td><td>integer</td></tr>\n",
       "\t<tr><td>requisitos_cobertos_mcdc    </td><td>11</td><td>integer</td></tr>\n",
       "\t<tr><td>total_de_requistos_mcdc     </td><td>12</td><td>integer</td></tr>\n",
       "\t<tr><td>numero_de_condicoes         </td><td>13</td><td>integer</td></tr>\n",
       "</tbody>\n",
       "</table>\n"
      ],
      "text/latex": [
       "A data.frame: 13 × 3\n",
       "\\begin{tabular}{lll}\n",
       " col\\_name & col\\_index & col\\_class\\\\\n",
       " <fct> & <int> & <fct>\\\\\n",
       "\\hline\n",
       "\t tamanho\\_da\\_malha             &  1 & integer\\\\\n",
       "\t numero\\_defeitos              &  2 & integer\\\\\n",
       "\t LOC                          &  3 & integer\\\\\n",
       "\t cobertura\\_condicao           &  4 & integer\\\\\n",
       "\t requisitos\\_cobertos\\_condicao &  5 & integer\\\\\n",
       "\t total\\_de\\_requistos\\_condicao  &  6 & integer\\\\\n",
       "\t cobertura\\_decisao            &  7 & integer\\\\\n",
       "\t requisitos\\_cobertos\\_decisao  &  8 & integer\\\\\n",
       "\t total\\_de\\_requistos\\_decisao   &  9 & integer\\\\\n",
       "\t cobertura\\_mcdc               & 10 & integer\\\\\n",
       "\t requisitos\\_cobertos\\_mcdc     & 11 & integer\\\\\n",
       "\t total\\_de\\_requistos\\_mcdc      & 12 & integer\\\\\n",
       "\t numero\\_de\\_condicoes          & 13 & integer\\\\\n",
       "\\end{tabular}\n"
      ],
      "text/markdown": [
       "\n",
       "A data.frame: 13 × 3\n",
       "\n",
       "| col_name &lt;fct&gt; | col_index &lt;int&gt; | col_class &lt;fct&gt; |\n",
       "|---|---|---|\n",
       "| tamanho_da_malha             |  1 | integer |\n",
       "| numero_defeitos              |  2 | integer |\n",
       "| LOC                          |  3 | integer |\n",
       "| cobertura_condicao           |  4 | integer |\n",
       "| requisitos_cobertos_condicao |  5 | integer |\n",
       "| total_de_requistos_condicao  |  6 | integer |\n",
       "| cobertura_decisao            |  7 | integer |\n",
       "| requisitos_cobertos_decisao  |  8 | integer |\n",
       "| total_de_requistos_decisao   |  9 | integer |\n",
       "| cobertura_mcdc               | 10 | integer |\n",
       "| requisitos_cobertos_mcdc     | 11 | integer |\n",
       "| total_de_requistos_mcdc      | 12 | integer |\n",
       "| numero_de_condicoes          | 13 | integer |\n",
       "\n"
      ],
      "text/plain": [
       "   col_name                     col_index col_class\n",
       "1  tamanho_da_malha              1        integer  \n",
       "2  numero_defeitos               2        integer  \n",
       "3  LOC                           3        integer  \n",
       "4  cobertura_condicao            4        integer  \n",
       "5  requisitos_cobertos_condicao  5        integer  \n",
       "6  total_de_requistos_condicao   6        integer  \n",
       "7  cobertura_decisao             7        integer  \n",
       "8  requisitos_cobertos_decisao   8        integer  \n",
       "9  total_de_requistos_decisao    9        integer  \n",
       "10 cobertura_mcdc               10        integer  \n",
       "11 requisitos_cobertos_mcdc     11        integer  \n",
       "12 total_de_requistos_mcdc      12        integer  \n",
       "13 numero_de_condicoes          13        integer  "
      ]
     },
     "metadata": {},
     "output_type": "display_data"
    }
   ],
   "source": [
    "custom_glimpse <- function(df) {\n",
    "  name <- deparse(substitute(df));\n",
    "  print(name);\n",
    "  data.frame(    \n",
    "    col_name = colnames(df),\n",
    "    col_index = 1:ncol(df),\n",
    "    col_class = sapply(df, class),\n",
    "    row.names = NULL\n",
    "  )\n",
    "}\n",
    "custom_glimpse(data1_Fr)"
   ]
  },
  {
   "cell_type": "code",
   "execution_count": 4,
   "id": "d677714a",
   "metadata": {},
   "outputs": [
    {
     "data": {
      "text/html": [
       "<table class=\"dataframe\">\n",
       "<caption>A data.frame: 6 × 13</caption>\n",
       "<thead>\n",
       "\t<tr><th></th><th scope=col>tamanho_da_malha</th><th scope=col>numero_defeitos</th><th scope=col>LOC</th><th scope=col>cobertura_condicao</th><th scope=col>requisitos_cobertos_condicao</th><th scope=col>total_de_requistos_condicao</th><th scope=col>cobertura_decisao</th><th scope=col>requisitos_cobertos_decisao</th><th scope=col>total_de_requistos_decisao</th><th scope=col>cobertura_mcdc</th><th scope=col>requisitos_cobertos_mcdc</th><th scope=col>total_de_requistos_mcdc</th><th scope=col>numero_de_condicoes</th></tr>\n",
       "\t<tr><th></th><th scope=col>&lt;int&gt;</th><th scope=col>&lt;int&gt;</th><th scope=col>&lt;int&gt;</th><th scope=col>&lt;int&gt;</th><th scope=col>&lt;int&gt;</th><th scope=col>&lt;int&gt;</th><th scope=col>&lt;int&gt;</th><th scope=col>&lt;int&gt;</th><th scope=col>&lt;int&gt;</th><th scope=col>&lt;int&gt;</th><th scope=col>&lt;int&gt;</th><th scope=col>&lt;int&gt;</th><th scope=col>&lt;int&gt;</th></tr>\n",
       "</thead>\n",
       "<tbody>\n",
       "\t<tr><th scope=row>1</th><td>   30</td><td> 4</td><td> 701</td><td>48</td><td>1131</td><td>2317</td><td>44</td><td>186</td><td>421</td><td>17</td><td>236</td><td>1369</td><td>5</td></tr>\n",
       "\t<tr><th scope=row>2</th><td>  930</td><td>15</td><td> 701</td><td> 0</td><td>   0</td><td>2317</td><td> 0</td><td>  0</td><td>421</td><td> 0</td><td>  0</td><td>1369</td><td>5</td></tr>\n",
       "\t<tr><th scope=row>3</th><td>27930</td><td>15</td><td> 701</td><td>77</td><td>1807</td><td>2317</td><td>77</td><td>328</td><td>421</td><td>51</td><td>705</td><td>1369</td><td>5</td></tr>\n",
       "\t<tr><th scope=row>4</th><td>   30</td><td> 2</td><td>1186</td><td>47</td><td>1820</td><td>3866</td><td>46</td><td>273</td><td>588</td><td>17</td><td>398</td><td>2227</td><td>7</td></tr>\n",
       "\t<tr><th scope=row>5</th><td>  930</td><td>12</td><td>1186</td><td> 0</td><td>   0</td><td>3866</td><td> 0</td><td>  0</td><td>588</td><td> 0</td><td>  0</td><td>2227</td><td>7</td></tr>\n",
       "\t<tr><th scope=row>6</th><td>27930</td><td>15</td><td>1186</td><td>62</td><td>2419</td><td>3866</td><td>62</td><td>370</td><td>588</td><td>32</td><td>722</td><td>2227</td><td>7</td></tr>\n",
       "</tbody>\n",
       "</table>\n"
      ],
      "text/latex": [
       "A data.frame: 6 × 13\n",
       "\\begin{tabular}{r|lllllllllllll}\n",
       "  & tamanho\\_da\\_malha & numero\\_defeitos & LOC & cobertura\\_condicao & requisitos\\_cobertos\\_condicao & total\\_de\\_requistos\\_condicao & cobertura\\_decisao & requisitos\\_cobertos\\_decisao & total\\_de\\_requistos\\_decisao & cobertura\\_mcdc & requisitos\\_cobertos\\_mcdc & total\\_de\\_requistos\\_mcdc & numero\\_de\\_condicoes\\\\\n",
       "  & <int> & <int> & <int> & <int> & <int> & <int> & <int> & <int> & <int> & <int> & <int> & <int> & <int>\\\\\n",
       "\\hline\n",
       "\t1 &    30 &  4 &  701 & 48 & 1131 & 2317 & 44 & 186 & 421 & 17 & 236 & 1369 & 5\\\\\n",
       "\t2 &   930 & 15 &  701 &  0 &    0 & 2317 &  0 &   0 & 421 &  0 &   0 & 1369 & 5\\\\\n",
       "\t3 & 27930 & 15 &  701 & 77 & 1807 & 2317 & 77 & 328 & 421 & 51 & 705 & 1369 & 5\\\\\n",
       "\t4 &    30 &  2 & 1186 & 47 & 1820 & 3866 & 46 & 273 & 588 & 17 & 398 & 2227 & 7\\\\\n",
       "\t5 &   930 & 12 & 1186 &  0 &    0 & 3866 &  0 &   0 & 588 &  0 &   0 & 2227 & 7\\\\\n",
       "\t6 & 27930 & 15 & 1186 & 62 & 2419 & 3866 & 62 & 370 & 588 & 32 & 722 & 2227 & 7\\\\\n",
       "\\end{tabular}\n"
      ],
      "text/markdown": [
       "\n",
       "A data.frame: 6 × 13\n",
       "\n",
       "| <!--/--> | tamanho_da_malha &lt;int&gt; | numero_defeitos &lt;int&gt; | LOC &lt;int&gt; | cobertura_condicao &lt;int&gt; | requisitos_cobertos_condicao &lt;int&gt; | total_de_requistos_condicao &lt;int&gt; | cobertura_decisao &lt;int&gt; | requisitos_cobertos_decisao &lt;int&gt; | total_de_requistos_decisao &lt;int&gt; | cobertura_mcdc &lt;int&gt; | requisitos_cobertos_mcdc &lt;int&gt; | total_de_requistos_mcdc &lt;int&gt; | numero_de_condicoes &lt;int&gt; |\n",
       "|---|---|---|---|---|---|---|---|---|---|---|---|---|---|\n",
       "| 1 |    30 |  4 |  701 | 48 | 1131 | 2317 | 44 | 186 | 421 | 17 | 236 | 1369 | 5 |\n",
       "| 2 |   930 | 15 |  701 |  0 |    0 | 2317 |  0 |   0 | 421 |  0 |   0 | 1369 | 5 |\n",
       "| 3 | 27930 | 15 |  701 | 77 | 1807 | 2317 | 77 | 328 | 421 | 51 | 705 | 1369 | 5 |\n",
       "| 4 |    30 |  2 | 1186 | 47 | 1820 | 3866 | 46 | 273 | 588 | 17 | 398 | 2227 | 7 |\n",
       "| 5 |   930 | 12 | 1186 |  0 |    0 | 3866 |  0 |   0 | 588 |  0 |   0 | 2227 | 7 |\n",
       "| 6 | 27930 | 15 | 1186 | 62 | 2419 | 3866 | 62 | 370 | 588 | 32 | 722 | 2227 | 7 |\n",
       "\n"
      ],
      "text/plain": [
       "  tamanho_da_malha numero_defeitos LOC  cobertura_condicao\n",
       "1    30             4               701 48                \n",
       "2   930            15               701  0                \n",
       "3 27930            15               701 77                \n",
       "4    30             2              1186 47                \n",
       "5   930            12              1186  0                \n",
       "6 27930            15              1186 62                \n",
       "  requisitos_cobertos_condicao total_de_requistos_condicao cobertura_decisao\n",
       "1 1131                         2317                        44               \n",
       "2    0                         2317                         0               \n",
       "3 1807                         2317                        77               \n",
       "4 1820                         3866                        46               \n",
       "5    0                         3866                         0               \n",
       "6 2419                         3866                        62               \n",
       "  requisitos_cobertos_decisao total_de_requistos_decisao cobertura_mcdc\n",
       "1 186                         421                        17            \n",
       "2   0                         421                         0            \n",
       "3 328                         421                        51            \n",
       "4 273                         588                        17            \n",
       "5   0                         588                         0            \n",
       "6 370                         588                        32            \n",
       "  requisitos_cobertos_mcdc total_de_requistos_mcdc numero_de_condicoes\n",
       "1 236                      1369                    5                  \n",
       "2   0                      1369                    5                  \n",
       "3 705                      1369                    5                  \n",
       "4 398                      2227                    7                  \n",
       "5   0                      2227                    7                  \n",
       "6 722                      2227                    7                  "
      ]
     },
     "metadata": {},
     "output_type": "display_data"
    }
   ],
   "source": [
    "head(data1_Fr)"
   ]
  },
  {
   "cell_type": "code",
   "execution_count": 5,
   "id": "d5bca18d",
   "metadata": {},
   "outputs": [
    {
     "name": "stdout",
     "output_type": "stream",
     "text": [
      "[1] \"Sumario de dados data1\"\n"
     ]
    },
    {
     "data": {
      "text/plain": [
       " tamanho_da_malha numero_defeitos      LOC       cobertura_condicao\n",
       " Min.   :     2   Min.   : 0.0    Min.   : 701   Min.   : 0.00     \n",
       " 1st Qu.:    83   1st Qu.: 5.0    1st Qu.: 701   1st Qu.:45.00     \n",
       " Median :  1958   Median :15.0    Median :1186   Median :63.00     \n",
       " Mean   : 66691   Mean   :11.6    Mean   :2475   Mean   :61.65     \n",
       " 3rd Qu.: 27930   3rd Qu.:15.0    3rd Qu.:5537   3rd Qu.:77.00     \n",
       " Max.   :848071   Max.   :25.0    Max.   :5537   Max.   :90.00     \n",
       " requisitos_cobertos_condicao total_de_requistos_condicao cobertura_decisao\n",
       " Min.   :    0                Min.   : 2317               Min.   : 0.00    \n",
       " 1st Qu.: 1768                1st Qu.: 2317               1st Qu.:44.00    \n",
       " Median : 2342                Median : 3866               Median :62.00    \n",
       " Mean   : 4652                Mean   : 7250               Mean   :61.17    \n",
       " 3rd Qu.: 6410                3rd Qu.:15566               3rd Qu.:77.00    \n",
       " Max.   :14155                Max.   :15566               Max.   :96.00    \n",
       " requisitos_cobertos_decisao total_de_requistos_decisao cobertura_mcdc \n",
       " Min.   :   0.0              Min.   : 421               Min.   : 0.00  \n",
       " 1st Qu.: 295.0              1st Qu.: 421               1st Qu.:16.00  \n",
       " Median : 358.0              Median : 588               Median :32.00  \n",
       " Mean   : 694.4              Mean   :1088               Mean   :34.07  \n",
       " 3rd Qu.: 836.8              3rd Qu.:2254               3rd Qu.:51.00  \n",
       " Max.   :2179.0              Max.   :2254               Max.   :72.00  \n",
       " requisitos_cobertos_mcdc total_de_requistos_mcdc numero_de_condicoes\n",
       " Min.   :   0.0           Min.   :1369            Min.   :5.000      \n",
       " 1st Qu.: 525.0           1st Qu.:1369            1st Qu.:5.000      \n",
       " Median : 705.0           Median :2227            Median :5.000      \n",
       " Mean   :1547.3           Mean   :4169            Mean   :5.667      \n",
       " 3rd Qu.: 996.5           3rd Qu.:8910            3rd Qu.:7.000      \n",
       " Max.   :6484.0           Max.   :8910            Max.   :7.000      "
      ]
     },
     "metadata": {},
     "output_type": "display_data"
    }
   ],
   "source": [
    "print(\"Sumario de dados data1\")\n",
    "summary(data1_Fr);"
   ]
  },
  {
   "cell_type": "code",
   "execution_count": 6,
   "id": "355c186e",
   "metadata": {},
   "outputs": [
    {
     "name": "stderr",
     "output_type": "stream",
     "text": [
      "Installing package into ‘/home/ncc1701/R/x86_64-pc-linux-gnu-library/3.6’\n",
      "(as ‘lib’ is unspecified)\n",
      "\n",
      "randomForest 4.6-12\n",
      "\n",
      "Type rfNews() to see new features/changes/bug fixes.\n",
      "\n",
      "Installing package into ‘/home/ncc1701/R/x86_64-pc-linux-gnu-library/3.6’\n",
      "(as ‘lib’ is unspecified)\n",
      "\n",
      "Loading required package: caTools\n",
      "\n"
     ]
    }
   ],
   "source": [
    "urlPackage <- \"https://cran.r-project.org/src/contrib/Archive/randomForest/randomForest_4.6-12.tar.gz\"\n",
    "install.packages(urlPackage, repos=NULL, type=\"source\") \n",
    "library(randomForest)\n",
    "install.packages(\"caTools\")\n",
    "require(caTools)"
   ]
  },
  {
   "cell_type": "code",
   "execution_count": 7,
   "id": "4f4cd716",
   "metadata": {},
   "outputs": [
    {
     "name": "stdout",
     "output_type": "stream",
     "text": [
      "\n",
      "Call:\n",
      " randomForest(formula = numero_defeitos ~ ., data = training,      ntree = 20, mtry = 2, importance = TRUE) \n",
      "               Type of random forest: regression\n",
      "                     Number of trees: 20\n",
      "No. of variables tried at each split: 2\n",
      "\n",
      "          Mean of squared residuals: 1.347347\n",
      "                    % Var explained: 97.32\n"
     ]
    }
   ],
   "source": [
    "set.seed(71)\n",
    "data_set_size <- floor(nrow(data1_Fr)/2)\n",
    "indexes <- sample(1:nrow(data1_Fr), size = data_set_size)\n",
    "# Assign the data to the correct sets\n",
    "training <- data1_Fr[indexes,]\n",
    "validation1 <- data1_Fr[-indexes,]\n",
    "rf <-randomForest(numero_defeitos~.,data=training, ntree=20, mtry=2, importance=TRUE) \n",
    "print(rf)"
   ]
  },
  {
   "cell_type": "code",
   "execution_count": null,
   "id": "9a18bab8",
   "metadata": {},
   "outputs": [],
   "source": []
  },
  {
   "cell_type": "code",
   "execution_count": null,
   "id": "b32f57e8",
   "metadata": {},
   "outputs": [],
   "source": []
  }
 ],
 "metadata": {
  "kernelspec": {
   "display_name": "R",
   "language": "R",
   "name": "ir"
  },
  "language_info": {
   "codemirror_mode": "r",
   "file_extension": ".r",
   "mimetype": "text/x-r-source",
   "name": "R",
   "pygments_lexer": "r",
   "version": "3.6.3"
  }
 },
 "nbformat": 4,
 "nbformat_minor": 5
}
