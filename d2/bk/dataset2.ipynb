{
 "cells": [
  {
   "cell_type": "code",
   "execution_count": 8,
   "id": "c6283c36",
   "metadata": {},
   "outputs": [],
   "source": [
    "data1 <- read.csv(file = \"dataset2.csv\", head =TRUE, sep =\",\");"
   ]
  },
  {
   "cell_type": "code",
   "execution_count": 9,
   "id": "c366c87d",
   "metadata": {},
   "outputs": [
    {
     "data": {
      "text/html": [
       "<style>\n",
       ".list-inline {list-style: none; margin:0; padding: 0}\n",
       ".list-inline>li {display: inline-block}\n",
       ".list-inline>li:not(:last-child)::after {content: \"\\00b7\"; padding: 0 .5ex}\n",
       "</style>\n",
       "<ol class=list-inline><li>599</li><li>15</li></ol>\n"
      ],
      "text/latex": [
       "\\begin{enumerate*}\n",
       "\\item 599\n",
       "\\item 15\n",
       "\\end{enumerate*}\n"
      ],
      "text/markdown": [
       "1. 599\n",
       "2. 15\n",
       "\n",
       "\n"
      ],
      "text/plain": [
       "[1] 599  15"
      ]
     },
     "metadata": {},
     "output_type": "display_data"
    }
   ],
   "source": [
    "data1_Fr <- data.frame(data1)\n",
    "data1_Fr <- data1_Fr[,-c(1,2)]\n",
    "dim(data1);   "
   ]
  },
  {
   "cell_type": "code",
   "execution_count": 10,
   "id": "b1781e86",
   "metadata": {},
   "outputs": [
    {
     "name": "stdout",
     "output_type": "stream",
     "text": [
      "[1] \"data1_Fr\"\n"
     ]
    },
    {
     "data": {
      "text/html": [
       "<table class=\"dataframe\">\n",
       "<caption>A data.frame: 13 × 3</caption>\n",
       "<thead>\n",
       "\t<tr><th scope=col>col_name</th><th scope=col>col_index</th><th scope=col>col_class</th></tr>\n",
       "\t<tr><th scope=col>&lt;fct&gt;</th><th scope=col>&lt;int&gt;</th><th scope=col>&lt;fct&gt;</th></tr>\n",
       "</thead>\n",
       "<tbody>\n",
       "\t<tr><td>tamanho_da_malha            </td><td> 1</td><td>integer</td></tr>\n",
       "\t<tr><td>numero_defeitos             </td><td> 2</td><td>integer</td></tr>\n",
       "\t<tr><td>LOC                         </td><td> 3</td><td>integer</td></tr>\n",
       "\t<tr><td>cobertura_condicao          </td><td> 4</td><td>integer</td></tr>\n",
       "\t<tr><td>requisitos_cobertos_condicao</td><td> 5</td><td>integer</td></tr>\n",
       "\t<tr><td>total_de_requistos_condicao </td><td> 6</td><td>integer</td></tr>\n",
       "\t<tr><td>cobertura_decisao           </td><td> 7</td><td>integer</td></tr>\n",
       "\t<tr><td>requisitos_cobertos_decisao </td><td> 8</td><td>integer</td></tr>\n",
       "\t<tr><td>total_de_requistos_decisao  </td><td> 9</td><td>integer</td></tr>\n",
       "\t<tr><td>cobertura_mcdc              </td><td>10</td><td>integer</td></tr>\n",
       "\t<tr><td>requisitos_cobertos_mcdc    </td><td>11</td><td>integer</td></tr>\n",
       "\t<tr><td>total_de_requistos_mcdc     </td><td>12</td><td>integer</td></tr>\n",
       "\t<tr><td>numero_de_condicoes         </td><td>13</td><td>integer</td></tr>\n",
       "</tbody>\n",
       "</table>\n"
      ],
      "text/latex": [
       "A data.frame: 13 × 3\n",
       "\\begin{tabular}{lll}\n",
       " col\\_name & col\\_index & col\\_class\\\\\n",
       " <fct> & <int> & <fct>\\\\\n",
       "\\hline\n",
       "\t tamanho\\_da\\_malha             &  1 & integer\\\\\n",
       "\t numero\\_defeitos              &  2 & integer\\\\\n",
       "\t LOC                          &  3 & integer\\\\\n",
       "\t cobertura\\_condicao           &  4 & integer\\\\\n",
       "\t requisitos\\_cobertos\\_condicao &  5 & integer\\\\\n",
       "\t total\\_de\\_requistos\\_condicao  &  6 & integer\\\\\n",
       "\t cobertura\\_decisao            &  7 & integer\\\\\n",
       "\t requisitos\\_cobertos\\_decisao  &  8 & integer\\\\\n",
       "\t total\\_de\\_requistos\\_decisao   &  9 & integer\\\\\n",
       "\t cobertura\\_mcdc               & 10 & integer\\\\\n",
       "\t requisitos\\_cobertos\\_mcdc     & 11 & integer\\\\\n",
       "\t total\\_de\\_requistos\\_mcdc      & 12 & integer\\\\\n",
       "\t numero\\_de\\_condicoes          & 13 & integer\\\\\n",
       "\\end{tabular}\n"
      ],
      "text/markdown": [
       "\n",
       "A data.frame: 13 × 3\n",
       "\n",
       "| col_name &lt;fct&gt; | col_index &lt;int&gt; | col_class &lt;fct&gt; |\n",
       "|---|---|---|\n",
       "| tamanho_da_malha             |  1 | integer |\n",
       "| numero_defeitos              |  2 | integer |\n",
       "| LOC                          |  3 | integer |\n",
       "| cobertura_condicao           |  4 | integer |\n",
       "| requisitos_cobertos_condicao |  5 | integer |\n",
       "| total_de_requistos_condicao  |  6 | integer |\n",
       "| cobertura_decisao            |  7 | integer |\n",
       "| requisitos_cobertos_decisao  |  8 | integer |\n",
       "| total_de_requistos_decisao   |  9 | integer |\n",
       "| cobertura_mcdc               | 10 | integer |\n",
       "| requisitos_cobertos_mcdc     | 11 | integer |\n",
       "| total_de_requistos_mcdc      | 12 | integer |\n",
       "| numero_de_condicoes          | 13 | integer |\n",
       "\n"
      ],
      "text/plain": [
       "   col_name                     col_index col_class\n",
       "1  tamanho_da_malha              1        integer  \n",
       "2  numero_defeitos               2        integer  \n",
       "3  LOC                           3        integer  \n",
       "4  cobertura_condicao            4        integer  \n",
       "5  requisitos_cobertos_condicao  5        integer  \n",
       "6  total_de_requistos_condicao   6        integer  \n",
       "7  cobertura_decisao             7        integer  \n",
       "8  requisitos_cobertos_decisao   8        integer  \n",
       "9  total_de_requistos_decisao    9        integer  \n",
       "10 cobertura_mcdc               10        integer  \n",
       "11 requisitos_cobertos_mcdc     11        integer  \n",
       "12 total_de_requistos_mcdc      12        integer  \n",
       "13 numero_de_condicoes          13        integer  "
      ]
     },
     "metadata": {},
     "output_type": "display_data"
    }
   ],
   "source": [
    "custom_glimpse <- function(df) {\n",
    "  name <- deparse(substitute(df));\n",
    "  print(name);\n",
    "  data.frame(    \n",
    "    col_name = colnames(df),\n",
    "    col_index = 1:ncol(df),\n",
    "    col_class = sapply(df, class),\n",
    "    row.names = NULL\n",
    "  )\n",
    "}\n",
    "custom_glimpse(data1_Fr)"
   ]
  },
  {
   "cell_type": "code",
   "execution_count": 11,
   "id": "d677714a",
   "metadata": {},
   "outputs": [
    {
     "data": {
      "text/html": [
       "<table class=\"dataframe\">\n",
       "<caption>A data.frame: 6 × 13</caption>\n",
       "<thead>\n",
       "\t<tr><th></th><th scope=col>tamanho_da_malha</th><th scope=col>numero_defeitos</th><th scope=col>LOC</th><th scope=col>cobertura_condicao</th><th scope=col>requisitos_cobertos_condicao</th><th scope=col>total_de_requistos_condicao</th><th scope=col>cobertura_decisao</th><th scope=col>requisitos_cobertos_decisao</th><th scope=col>total_de_requistos_decisao</th><th scope=col>cobertura_mcdc</th><th scope=col>requisitos_cobertos_mcdc</th><th scope=col>total_de_requistos_mcdc</th><th scope=col>numero_de_condicoes</th></tr>\n",
       "\t<tr><th></th><th scope=col>&lt;int&gt;</th><th scope=col>&lt;int&gt;</th><th scope=col>&lt;int&gt;</th><th scope=col>&lt;int&gt;</th><th scope=col>&lt;int&gt;</th><th scope=col>&lt;int&gt;</th><th scope=col>&lt;int&gt;</th><th scope=col>&lt;int&gt;</th><th scope=col>&lt;int&gt;</th><th scope=col>&lt;int&gt;</th><th scope=col>&lt;int&gt;</th><th scope=col>&lt;int&gt;</th><th scope=col>&lt;int&gt;</th></tr>\n",
       "</thead>\n",
       "<tbody>\n",
       "\t<tr><th scope=row>1</th><td>   47</td><td> 0</td><td>619</td><td>29</td><td> 762</td><td>2550</td><td>34</td><td>136</td><td>394</td><td>12</td><td>188</td><td>1472</td><td>7</td></tr>\n",
       "\t<tr><th scope=row>2</th><td> 2115</td><td> 6</td><td>619</td><td>46</td><td>1177</td><td>2550</td><td>52</td><td>208</td><td>394</td><td>30</td><td>450</td><td>1472</td><td>7</td></tr>\n",
       "\t<tr><th scope=row>3</th><td>95175</td><td>11</td><td>619</td><td>55</td><td>1415</td><td>2550</td><td>62</td><td>246</td><td>394</td><td>40</td><td>597</td><td>1472</td><td>7</td></tr>\n",
       "\t<tr><th scope=row>4</th><td>   47</td><td> 1</td><td>642</td><td>44</td><td>1081</td><td>2409</td><td>42</td><td>186</td><td>441</td><td>17</td><td>256</td><td>1425</td><td>6</td></tr>\n",
       "\t<tr><th scope=row>5</th><td> 2115</td><td> 7</td><td>642</td><td>59</td><td>1425</td><td>2409</td><td>57</td><td>253</td><td>441</td><td>32</td><td>466</td><td>1425</td><td>6</td></tr>\n",
       "\t<tr><th scope=row>6</th><td>95175</td><td> 7</td><td>642</td><td>59</td><td>1442</td><td>2409</td><td>57</td><td>255</td><td>441</td><td>33</td><td>475</td><td>1425</td><td>6</td></tr>\n",
       "</tbody>\n",
       "</table>\n"
      ],
      "text/latex": [
       "A data.frame: 6 × 13\n",
       "\\begin{tabular}{r|lllllllllllll}\n",
       "  & tamanho\\_da\\_malha & numero\\_defeitos & LOC & cobertura\\_condicao & requisitos\\_cobertos\\_condicao & total\\_de\\_requistos\\_condicao & cobertura\\_decisao & requisitos\\_cobertos\\_decisao & total\\_de\\_requistos\\_decisao & cobertura\\_mcdc & requisitos\\_cobertos\\_mcdc & total\\_de\\_requistos\\_mcdc & numero\\_de\\_condicoes\\\\\n",
       "  & <int> & <int> & <int> & <int> & <int> & <int> & <int> & <int> & <int> & <int> & <int> & <int> & <int>\\\\\n",
       "\\hline\n",
       "\t1 &    47 &  0 & 619 & 29 &  762 & 2550 & 34 & 136 & 394 & 12 & 188 & 1472 & 7\\\\\n",
       "\t2 &  2115 &  6 & 619 & 46 & 1177 & 2550 & 52 & 208 & 394 & 30 & 450 & 1472 & 7\\\\\n",
       "\t3 & 95175 & 11 & 619 & 55 & 1415 & 2550 & 62 & 246 & 394 & 40 & 597 & 1472 & 7\\\\\n",
       "\t4 &    47 &  1 & 642 & 44 & 1081 & 2409 & 42 & 186 & 441 & 17 & 256 & 1425 & 6\\\\\n",
       "\t5 &  2115 &  7 & 642 & 59 & 1425 & 2409 & 57 & 253 & 441 & 32 & 466 & 1425 & 6\\\\\n",
       "\t6 & 95175 &  7 & 642 & 59 & 1442 & 2409 & 57 & 255 & 441 & 33 & 475 & 1425 & 6\\\\\n",
       "\\end{tabular}\n"
      ],
      "text/markdown": [
       "\n",
       "A data.frame: 6 × 13\n",
       "\n",
       "| <!--/--> | tamanho_da_malha &lt;int&gt; | numero_defeitos &lt;int&gt; | LOC &lt;int&gt; | cobertura_condicao &lt;int&gt; | requisitos_cobertos_condicao &lt;int&gt; | total_de_requistos_condicao &lt;int&gt; | cobertura_decisao &lt;int&gt; | requisitos_cobertos_decisao &lt;int&gt; | total_de_requistos_decisao &lt;int&gt; | cobertura_mcdc &lt;int&gt; | requisitos_cobertos_mcdc &lt;int&gt; | total_de_requistos_mcdc &lt;int&gt; | numero_de_condicoes &lt;int&gt; |\n",
       "|---|---|---|---|---|---|---|---|---|---|---|---|---|---|\n",
       "| 1 |    47 |  0 | 619 | 29 |  762 | 2550 | 34 | 136 | 394 | 12 | 188 | 1472 | 7 |\n",
       "| 2 |  2115 |  6 | 619 | 46 | 1177 | 2550 | 52 | 208 | 394 | 30 | 450 | 1472 | 7 |\n",
       "| 3 | 95175 | 11 | 619 | 55 | 1415 | 2550 | 62 | 246 | 394 | 40 | 597 | 1472 | 7 |\n",
       "| 4 |    47 |  1 | 642 | 44 | 1081 | 2409 | 42 | 186 | 441 | 17 | 256 | 1425 | 6 |\n",
       "| 5 |  2115 |  7 | 642 | 59 | 1425 | 2409 | 57 | 253 | 441 | 32 | 466 | 1425 | 6 |\n",
       "| 6 | 95175 |  7 | 642 | 59 | 1442 | 2409 | 57 | 255 | 441 | 33 | 475 | 1425 | 6 |\n",
       "\n"
      ],
      "text/plain": [
       "  tamanho_da_malha numero_defeitos LOC cobertura_condicao\n",
       "1    47             0              619 29                \n",
       "2  2115             6              619 46                \n",
       "3 95175            11              619 55                \n",
       "4    47             1              642 44                \n",
       "5  2115             7              642 59                \n",
       "6 95175             7              642 59                \n",
       "  requisitos_cobertos_condicao total_de_requistos_condicao cobertura_decisao\n",
       "1  762                         2550                        34               \n",
       "2 1177                         2550                        52               \n",
       "3 1415                         2550                        62               \n",
       "4 1081                         2409                        42               \n",
       "5 1425                         2409                        57               \n",
       "6 1442                         2409                        57               \n",
       "  requisitos_cobertos_decisao total_de_requistos_decisao cobertura_mcdc\n",
       "1 136                         394                        12            \n",
       "2 208                         394                        30            \n",
       "3 246                         394                        40            \n",
       "4 186                         441                        17            \n",
       "5 253                         441                        32            \n",
       "6 255                         441                        33            \n",
       "  requisitos_cobertos_mcdc total_de_requistos_mcdc numero_de_condicoes\n",
       "1 188                      1472                    7                  \n",
       "2 450                      1472                    7                  \n",
       "3 597                      1472                    7                  \n",
       "4 256                      1425                    6                  \n",
       "5 466                      1425                    6                  \n",
       "6 475                      1425                    6                  "
      ]
     },
     "metadata": {},
     "output_type": "display_data"
    }
   ],
   "source": [
    "head(data1_Fr)"
   ]
  },
  {
   "cell_type": "code",
   "execution_count": 12,
   "id": "d5bca18d",
   "metadata": {},
   "outputs": [
    {
     "name": "stdout",
     "output_type": "stream",
     "text": [
      "[1] \"Sumario de dados data1\"\n"
     ]
    },
    {
     "data": {
      "text/plain": [
       " tamanho_da_malha numero_defeitos       LOC          cobertura_condicao\n",
       " Min.   :     0   Min.   : 0.000   Min.   :  619.0   Min.   : 0.00     \n",
       " 1st Qu.:    60   1st Qu.: 0.000   1st Qu.:  630.5   1st Qu.:30.00     \n",
       " Median :  1144   Median : 0.000   Median :  642.0   Median :45.00     \n",
       " Mean   : 49379   Mean   : 2.421   Mean   : 4305.8   Mean   :42.67     \n",
       " 3rd Qu.:  9600   3rd Qu.: 5.000   3rd Qu.: 4846.0   3rd Qu.:58.00     \n",
       " Max.   :848256   Max.   :14.000   Max.   :11162.0   Max.   :70.00     \n",
       " requisitos_cobertos_condicao total_de_requistos_condicao cobertura_decisao\n",
       " Min.   :    2                Min.   : 2409               Min.   : 0.00    \n",
       " 1st Qu.: 1100                1st Qu.: 2480               1st Qu.:33.00    \n",
       " Median : 1442                Median : 2550               Median :45.00    \n",
       " Mean   : 7066                Mean   :16374               Mean   :43.48    \n",
       " 3rd Qu.:11782                3rd Qu.:20354               3rd Qu.:57.00    \n",
       " Max.   :27300                Max.   :40342               Max.   :72.00    \n",
       " requisitos_cobertos_decisao total_de_requistos_decisao cobertura_mcdc \n",
       " Min.   :   2.0              Min.   : 394.0             Min.   : 0.00  \n",
       " 1st Qu.: 198.0              1st Qu.: 417.5             1st Qu.: 9.00  \n",
       " Median : 255.0              Median : 441.0             Median :19.00  \n",
       " Mean   : 920.2              Mean   :2193.2             Mean   :20.26  \n",
       " 3rd Qu.:1619.0              3rd Qu.:2452.0             3rd Qu.:32.00  \n",
       " Max.   :3564.0              Max.   :5508.0             Max.   :46.00  \n",
       " requisitos_cobertos_mcdc total_de_requistos_mcdc numero_de_condicoes\n",
       " Min.   :   2.0           Min.   : 1425           Min.   :6.000      \n",
       " 1st Qu.: 354.5           1st Qu.: 1448           1st Qu.:6.500      \n",
       " Median : 595.0           Median : 1472           Median :7.000      \n",
       " Mean   :1637.9           Mean   : 9284           Mean   :7.249      \n",
       " 3rd Qu.:1907.0           3rd Qu.:11403           3rd Qu.:8.000      \n",
       " Max.   :8619.0           Max.   :22925           Max.   :8.000      "
      ]
     },
     "metadata": {},
     "output_type": "display_data"
    }
   ],
   "source": [
    "print(\"Sumario de dados data1\")\n",
    "summary(data1_Fr);"
   ]
  },
  {
   "cell_type": "code",
   "execution_count": 13,
   "id": "355c186e",
   "metadata": {},
   "outputs": [
    {
     "name": "stderr",
     "output_type": "stream",
     "text": [
      "Installing package into ‘/home/ncc1701/R/x86_64-pc-linux-gnu-library/3.6’\n",
      "(as ‘lib’ is unspecified)\n",
      "\n",
      "Installing package into ‘/home/ncc1701/R/x86_64-pc-linux-gnu-library/3.6’\n",
      "(as ‘lib’ is unspecified)\n",
      "\n"
     ]
    }
   ],
   "source": [
    "urlPackage <- \"https://cran.r-project.org/src/contrib/Archive/randomForest/randomForest_4.6-12.tar.gz\"\n",
    "install.packages(urlPackage, repos=NULL, type=\"source\") \n",
    "library(randomForest)\n",
    "install.packages(\"caTools\")\n",
    "require(caTools)"
   ]
  },
  {
   "cell_type": "code",
   "execution_count": 14,
   "id": "4f4cd716",
   "metadata": {},
   "outputs": [
    {
     "name": "stdout",
     "output_type": "stream",
     "text": [
      "\n",
      "Call:\n",
      " randomForest(formula = numero_defeitos ~ ., data = training,      ntree = 20, mtry = 2, importance = TRUE) \n",
      "               Type of random forest: regression\n",
      "                     Number of trees: 20\n",
      "No. of variables tried at each split: 2\n",
      "\n",
      "          Mean of squared residuals: 0.4405535\n",
      "                    % Var explained: 96.4\n"
     ]
    }
   ],
   "source": [
    "set.seed(71)\n",
    "data_set_size <- floor(nrow(data1_Fr)/2)\n",
    "indexes <- sample(1:nrow(data1_Fr), size = data_set_size)\n",
    "# Assign the data to the correct sets\n",
    "training <- data1_Fr[indexes,]\n",
    "validation1 <- data1_Fr[-indexes,]\n",
    "rf <-randomForest(numero_defeitos~.,data=training, ntree=20, mtry=2, importance=TRUE) \n",
    "print(rf)"
   ]
  },
  {
   "cell_type": "code",
   "execution_count": null,
   "id": "9a18bab8",
   "metadata": {},
   "outputs": [],
   "source": []
  },
  {
   "cell_type": "code",
   "execution_count": null,
   "id": "b32f57e8",
   "metadata": {},
   "outputs": [],
   "source": []
  }
 ],
 "metadata": {
  "kernelspec": {
   "display_name": "R",
   "language": "R",
   "name": "ir"
  },
  "language_info": {
   "codemirror_mode": "r",
   "file_extension": ".r",
   "mimetype": "text/x-r-source",
   "name": "R",
   "pygments_lexer": "r",
   "version": "3.6.3"
  }
 },
 "nbformat": 4,
 "nbformat_minor": 5
}
